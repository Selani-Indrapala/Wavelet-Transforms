{
  "nbformat": 4,
  "nbformat_minor": 0,
  "metadata": {
    "colab": {
      "provenance": [],
      "gpuType": "T4",
      "authorship_tag": "ABX9TyN2yoTSB+KX3m7p5uq5BV10",
      "include_colab_link": true
    },
    "kernelspec": {
      "name": "python3",
      "display_name": "Python 3"
    },
    "language_info": {
      "name": "python"
    },
    "accelerator": "GPU"
  },
  "cells": [
    {
      "cell_type": "markdown",
      "metadata": {
        "id": "view-in-github",
        "colab_type": "text"
      },
      "source": [
        "<a href=\"https://colab.research.google.com/github/Selani-Indrapala/Wavelet-Transforms/blob/main/WCT2.ipynb\" target=\"_parent\"><img src=\"https://colab.research.google.com/assets/colab-badge.svg\" alt=\"Open In Colab\"/></a>"
      ]
    },
    {
      "cell_type": "code",
      "execution_count": null,
      "metadata": {
        "id": "u8iZAfGQ7EWZ"
      },
      "outputs": [],
      "source": [
        "!git clone https://github.com/clovaai/WCT2.git\n",
        "%cd WCT2"
      ]
    },
    {
      "cell_type": "code",
      "source": [
        "!git clone https://github.com/luanfujun/deep-photo-styletransfer.git"
      ],
      "metadata": {
        "id": "S0NZQak68sLo"
      },
      "execution_count": null,
      "outputs": []
    },
    {
      "cell_type": "code",
      "source": [
        "!python transfer.py --option_unpool cat5 -a --content ./examples/content --style ./examples/style --content_segment ./examples/content_segment --style_segment ./examples/style_segment/ --output ./outputs/ --verbose --image_size 512"
      ],
      "metadata": {
        "id": "ZkDxHWr--WqD"
      },
      "execution_count": null,
      "outputs": []
    },
    {
      "cell_type": "code",
      "source": [
        "import os\n",
        "path=\"/content/WCT2/deep-photo-styletransfer/examples/style/\"\n",
        "for filename in os.listdir(path):\n",
        "\tmy_dest =\"in\" + filename[3:]\n",
        "\tmy_source =path + filename\n",
        "\tmy_dest =path + my_dest\n",
        "\t# rename() function will\n",
        "\t# rename all the files\n",
        "\tos.rename(my_source, my_dest)"
      ],
      "metadata": {
        "id": "iOdRyZrpNjo_"
      },
      "execution_count": 4,
      "outputs": []
    },
    {
      "cell_type": "code",
      "source": [
        "path = os.path.join(\"/content/WCT2/deep-photo-styletransfer/examples/\", \"content_segmentation\")\n",
        "os.mkdir(path)"
      ],
      "metadata": {
        "id": "S6gYPTyFwlTy"
      },
      "execution_count": 5,
      "outputs": []
    },
    {
      "cell_type": "code",
      "source": [
        "path=\"/content/WCT2/deep-photo-styletransfer/examples/segmentation/\"\n",
        "for filename in os.listdir(path):\n",
        "  if filename[0] == \"t\":\n",
        "    my_dest =\"in\" + filename[3:]\n",
        "    my_source = os.path.join(path, filename)\n",
        "    my_dest = os.path.join(\"/content/WCT2/deep-photo-styletransfer/examples/content_segmentation/\", my_dest)\n",
        "    os.rename(my_source, my_dest)"
      ],
      "metadata": {
        "id": "pzt_RlpgQUzu"
      },
      "execution_count": 6,
      "outputs": []
    },
    {
      "cell_type": "code",
      "source": [
        "!python transfer.py --option_unpool cat5 -a --content ./deep-photo-styletransfer/examples/input --style ./deep-photo-styletransfer/examples/style/ --content_segment ./deep-photo-styletransfer/examples/segmentation --style_segment ./deep-photo-styletransfer/examples/content_segmentation --output ./outputs2/ --verbose --image_size 256"
      ],
      "metadata": {
        "id": "W05ZD0sVADmb"
      },
      "execution_count": null,
      "outputs": []
    }
  ]
}